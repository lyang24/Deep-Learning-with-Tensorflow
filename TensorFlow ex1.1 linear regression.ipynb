{
 "cells": [
  {
   "cell_type": "markdown",
   "metadata": {},
   "source": [
    "# what do you need to build a neural net\n",
    "## answer: neureons\n",
    "### this is me practice tensorflow with https://github.com/sherrym/tf-tutorial/blob/master/1_linear_regression_model.ipynb"
   ]
  },
  {
   "cell_type": "code",
   "execution_count": 1,
   "metadata": {
    "collapsed": true
   },
   "outputs": [],
   "source": [
    "import tensorflow as tf\n",
    "import numpy as np\n",
    "\n",
    "%matplotlib inline\n",
    "import matplotlib.pyplot as plt"
   ]
  },
  {
   "cell_type": "code",
   "execution_count": 3,
   "metadata": {
    "collapsed": true
   },
   "outputs": [],
   "source": [
    "#generate random data using numpy\n",
    "x_data = np.random.rand(100).astype(np.float32)\n",
    "noise = np.random.normal(scale=0.01, size=len(x_data))\n",
    "y_data = x_data*0.1 + 0.3 + noise"
   ]
  },
  {
   "cell_type": "code",
   "execution_count": 5,
   "metadata": {
    "collapsed": false
   },
   "outputs": [
    {
     "name": "stdout",
     "output_type": "stream",
     "text": [
      "Tensor(\"Variable/read:0\", shape=(1,), dtype=float32)\n"
     ]
    }
   ],
   "source": [
    "#build inference graph\n",
    "# create variables W and b that compute y_data = W*x_data + b\n",
    "W = tf.Variable(tf.random_uniform([1], 0.0, 1.0))\n",
    "b = tf.Variable(tf.zeros([1]))\n",
    "y = W*x_data + b\n",
    "\n",
    "print(W)"
   ]
  },
  {
   "cell_type": "code",
   "execution_count": 9,
   "metadata": {
    "collapsed": false
   },
   "outputs": [],
   "source": [
    "loss = tf.reduce_mean(tf.square(y-y_data))\n",
    "opitmizer = tf.train.GradientDescentOptimizer(0.5)\n",
    "train = opitmizer.minimize(loss)\n",
    "init = tf.global_variables_initializer()"
   ]
  },
  {
   "cell_type": "code",
   "execution_count": 10,
   "metadata": {
    "collapsed": true
   },
   "outputs": [],
   "source": [
    "sess = tf.Session()\n",
    "sess.run(init)\n",
    "y_initial_values = sess.run(y)"
   ]
  },
  {
   "cell_type": "code",
   "execution_count": 11,
   "metadata": {
    "collapsed": false
   },
   "outputs": [
    {
     "name": "stdout",
     "output_type": "stream",
     "text": [
      "0 [array([ 0.80769074], dtype=float32), array([-0.09333967], dtype=float32)]\n",
      "20 [array([ 0.2983472], dtype=float32), array([ 0.19913025], dtype=float32)]\n",
      "40 [array([ 0.15407969], dtype=float32), array([ 0.27352449], dtype=float32)]\n",
      "60 [array([ 0.11416882], dtype=float32), array([ 0.29410526], dtype=float32)]\n",
      "80 [array([ 0.1031277], dtype=float32), array([ 0.29979885], dtype=float32)]\n",
      "100 [array([ 0.10007323], dtype=float32), array([ 0.30137393], dtype=float32)]\n",
      "120 [array([ 0.0992282], dtype=float32), array([ 0.3018097], dtype=float32)]\n",
      "140 [array([ 0.09899444], dtype=float32), array([ 0.30193022], dtype=float32)]\n",
      "160 [array([ 0.09892976], dtype=float32), array([ 0.30196357], dtype=float32)]\n",
      "180 [array([ 0.09891189], dtype=float32), array([ 0.30197278], dtype=float32)]\n",
      "200 [array([ 0.09890694], dtype=float32), array([ 0.30197534], dtype=float32)]\n",
      "[array([ 0.09890694], dtype=float32), array([ 0.30197534], dtype=float32)]\n"
     ]
    }
   ],
   "source": [
    "for step in range(201):\n",
    "    sess.run(train)\n",
    "    if step %20 == 0:\n",
    "        print(step, sess.run([W, b]))\n",
    "print(sess.run([W, b]))"
   ]
  }
 ],
 "metadata": {
  "anaconda-cloud": {},
  "kernelspec": {
   "display_name": "Python [conda env:snakes]",
   "language": "python",
   "name": "conda-env-snakes-py"
  },
  "language_info": {
   "codemirror_mode": {
    "name": "ipython",
    "version": 3
   },
   "file_extension": ".py",
   "mimetype": "text/x-python",
   "name": "python",
   "nbconvert_exporter": "python",
   "pygments_lexer": "ipython3",
   "version": "3.5.2"
  }
 },
 "nbformat": 4,
 "nbformat_minor": 1
}
